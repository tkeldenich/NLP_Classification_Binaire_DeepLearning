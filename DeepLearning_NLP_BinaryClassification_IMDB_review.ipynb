{
  "nbformat": 4,
  "nbformat_minor": 0,
  "metadata": {
    "colab": {
      "name": "DeepLearning_NLP_BinaryClassification_IMDB_review.ipynb",
      "provenance": [],
      "collapsed_sections": []
    },
    "kernelspec": {
      "name": "python3",
      "display_name": "Python 3"
    }
  },
  "cells": [
    {
      "cell_type": "markdown",
      "metadata": {
        "id": "nDzNbOw0VGPI"
      },
      "source": [
        "# **Deep Learning - Classification Binaire - Modèle et Erreur Classique**"
      ]
    },
    {
      "cell_type": "markdown",
      "metadata": {
        "id": "l7-tT_BdIMvl"
      },
      "source": [
        "Nous allons voir dans ce programme l'**approche classique** à utiliser pour un problème de **Classification Binaire** en **NLP**, un problème de **classification à deux options** avec **des données textes**.\n",
        "\n",
        "Pour cela nous utilisons un jeu de données disponible dans la librairie **Keras**.\n",
        "\n",
        "Ce **jeu de données** est composé :\n",
        "- de **critiques de films**\n",
        "- de **labels** (0 ou 1) associés à chaque critique\n",
        "\n",
        "Les labels indiquent si la critique est positive (1) ou négative (0).\n",
        "\n",
        "Le but de notre modèle de **Deep Learning** sera de déterminer à partir d'une critique si l'**auteur** a **aimé le film ou non**, c'est-à-dire si la critique est positive ou non.\n",
        "\n",
        "Nous allons donc **entraîner notre modèle** sur des données d'entraînement puis le **tester**, vérifier **ses capacités** sur des données de test.\n",
        "\n",
        "Il y a en tout **50 000 critiques** et donc **50 000 labels**.\n"
      ]
    },
    {
      "cell_type": "markdown",
      "metadata": {
        "id": "YZzqpGJuMPyC"
      },
      "source": [
        "## **Préparer nos données**"
      ]
    },
    {
      "cell_type": "markdown",
      "metadata": {
        "id": "ljpvam2uc18j"
      },
      "source": [
        "### **Charger nos données**"
      ]
    },
    {
      "cell_type": "markdown",
      "metadata": {
        "id": "Ca_HxLpZMMQp"
      },
      "source": [
        "Premièrement, on **charge les données** depuis le **package imdb**.\n",
        "\n",
        "*train_data* et *train_labels* sont les données sur lesquels on va **entraîner notre modèle**. On entraîne notre modèle à **prédire les labels** à partir  **des data**.\n",
        "\n",
        "Ensuite on pourra **tester l'efficacité** du modèle en faisant des **prédiction** sur les *test_data* et en **comparant** ces prédictions de label au véritable label *test_labels*. \n",
        "\n"
      ]
    },
    {
      "cell_type": "code",
      "metadata": {
        "colab": {
          "base_uri": "https://localhost:8080/"
        },
        "id": "95_eBEeeYi2p",
        "outputId": "042e63da-15ac-4575-abd9-743fe6ef1713"
      },
      "source": [
        "from keras.datasets import imdb\n",
        "\n",
        "(train_data, train_labels), (test_data, test_labels) = imdb.load_data(num_words=10000)"
      ],
      "execution_count": null,
      "outputs": [
        {
          "output_type": "stream",
          "text": [
            "<string>:6: VisibleDeprecationWarning: Creating an ndarray from ragged nested sequences (which is a list-or-tuple of lists-or-tuples-or ndarrays with different lengths or shapes) is deprecated. If you meant to do this, you must specify 'dtype=object' when creating the ndarray\n",
            "/usr/local/lib/python3.6/dist-packages/tensorflow/python/keras/datasets/imdb.py:159: VisibleDeprecationWarning: Creating an ndarray from ragged nested sequences (which is a list-or-tuple of lists-or-tuples-or ndarrays with different lengths or shapes) is deprecated. If you meant to do this, you must specify 'dtype=object' when creating the ndarray\n",
            "  x_train, y_train = np.array(xs[:idx]), np.array(labels[:idx])\n",
            "/usr/local/lib/python3.6/dist-packages/tensorflow/python/keras/datasets/imdb.py:160: VisibleDeprecationWarning: Creating an ndarray from ragged nested sequences (which is a list-or-tuple of lists-or-tuples-or ndarrays with different lengths or shapes) is deprecated. If you meant to do this, you must specify 'dtype=object' when creating the ndarray\n",
            "  x_test, y_test = np.array(xs[idx:]), np.array(labels[idx:])\n"
          ],
          "name": "stderr"
        }
      ]
    },
    {
      "cell_type": "markdown",
      "metadata": {
        "id": "Ygm6jr2vZQ5y"
      },
      "source": [
        "Les **critiques de films** (stockées dans *train_data* et *test_data*) on **déjà** était préprocesser, **prétraiter**.\n",
        "\n",
        "C'est-à-dire que **les critiques** ont était **transformées**, **encodées en chiffres**.\n",
        "\n",
        "Ainsi, une **phrase** est **représentée** par une **liste de chiffres**.\n",
        "\n",
        "Chaque **chiffre** représente un **mot**.\n",
        "\n",
        "\n",
        "*num_words=10000* veut dire qu'on a gardé les **10 000 mots les plus fréquents** dans l'**ensemble de critique**.\n",
        "\n",
        "On a donc une **liste de 10 000 mots** et chaque mot de chaque phrase fait **référence** à un des mots **dans cette liste**.\n",
        "\n",
        "Si une phrase contient le **mot numéro 15**, pour le **connaitre** il faut voir le numéro 15 de la **liste des 10 000 mots**.\n",
        "\n",
        "\n",
        "\n"
      ]
    },
    {
      "cell_type": "markdown",
      "metadata": {
        "id": "Wr37Nsu7biZT"
      },
      "source": [
        "On peut **vérifier** cela en affichant la **premiere critique** :"
      ]
    },
    {
      "cell_type": "code",
      "metadata": {
        "colab": {
          "base_uri": "https://localhost:8080/"
        },
        "id": "LwFWbqbXYbFt",
        "outputId": "33bd0f0b-2b8d-49f2-8e71-1b276fe4a6fe"
      },
      "source": [
        "print(train_data[0])"
      ],
      "execution_count": null,
      "outputs": [
        {
          "output_type": "stream",
          "text": [
            "[1, 14, 22, 16, 43, 530, 973, 1622, 1385, 65, 458, 4468, 66, 3941, 4, 173, 36, 256, 5, 25, 100, 43, 838, 112, 50, 670, 2, 9, 35, 480, 284, 5, 150, 4, 172, 112, 167, 2, 336, 385, 39, 4, 172, 4536, 1111, 17, 546, 38, 13, 447, 4, 192, 50, 16, 6, 147, 2025, 19, 14, 22, 4, 1920, 4613, 469, 4, 22, 71, 87, 12, 16, 43, 530, 38, 76, 15, 13, 1247, 4, 22, 17, 515, 17, 12, 16, 626, 18, 2, 5, 62, 386, 12, 8, 316, 8, 106, 5, 4, 2223, 5244, 16, 480, 66, 3785, 33, 4, 130, 12, 16, 38, 619, 5, 25, 124, 51, 36, 135, 48, 25, 1415, 33, 6, 22, 12, 215, 28, 77, 52, 5, 14, 407, 16, 82, 2, 8, 4, 107, 117, 5952, 15, 256, 4, 2, 7, 3766, 5, 723, 36, 71, 43, 530, 476, 26, 400, 317, 46, 7, 4, 2, 1029, 13, 104, 88, 4, 381, 15, 297, 98, 32, 2071, 56, 26, 141, 6, 194, 7486, 18, 4, 226, 22, 21, 134, 476, 26, 480, 5, 144, 30, 5535, 18, 51, 36, 28, 224, 92, 25, 104, 4, 226, 65, 16, 38, 1334, 88, 12, 16, 283, 5, 16, 4472, 113, 103, 32, 15, 16, 5345, 19, 178, 32]\n"
          ],
          "name": "stdout"
        }
      ]
    },
    {
      "cell_type": "markdown",
      "metadata": {
        "id": "xv0mmLDBc-3k"
      },
      "source": [
        "**Vérifier nos données**"
      ]
    },
    {
      "cell_type": "markdown",
      "metadata": {
        "id": "giKSjoT6cr2e"
      },
      "source": [
        "On peut aussi **traduire**, décoder **ces critiques** pour les lire en anglais.\n",
        "\n",
        "Pour cela on **charge** le *word_index*, c'est un **dictionnaire** qui contient **88 584 mots** (les 10 000 mots les plus fréquents que l'on a charger sont tirés de ce dictionnaire)."
      ]
    },
    {
      "cell_type": "code",
      "metadata": {
        "id": "kIzinI87dbJs"
      },
      "source": [
        "word_index = imdb.get_word_index()"
      ],
      "execution_count": null,
      "outputs": []
    },
    {
      "cell_type": "markdown",
      "metadata": {
        "id": "wgveR6vwh96S"
      },
      "source": [
        "Ce **dictionnaire** contient donc **88 584 mots** et un **index** pour **chaque mot**.\n",
        "\n",
        "L'**index** est en fait une **adresse** qui permet de **récupérer le mot** à partir d'un chiffre en se **référant** au dictionnaire.\n",
        "\n",
        "Si on reprend notre **exemple précédent** avec le **chiffre 15**, on regarde dans le *word_index* le **mot correspondant** au chiffre 15.\n",
        "\n",
        "On peut **afficher** les **5 premiers mots** du dictionnaire :"
      ]
    },
    {
      "cell_type": "code",
      "metadata": {
        "colab": {
          "base_uri": "https://localhost:8080/"
        },
        "id": "3CeMyCfRhxvz",
        "outputId": "6c6a131f-ae78-4e17-eeb3-bd9b7dec2d01"
      },
      "source": [
        "list(word_index.items())[:5]"
      ],
      "execution_count": null,
      "outputs": [
        {
          "output_type": "execute_result",
          "data": {
            "text/plain": [
              "[('fawn', 34701),\n",
              " ('tsukino', 52006),\n",
              " ('nunnery', 52007),\n",
              " ('sonja', 16816),\n",
              " ('vani', 63951)]"
            ]
          },
          "metadata": {
            "tags": []
          },
          "execution_count": 4
        }
      ]
    },
    {
      "cell_type": "markdown",
      "metadata": {
        "id": "AWslhlkgi3mJ"
      },
      "source": [
        "Pour plus de **commodité** et de **rapidité** dans le **décodage** on va inverser le dictionnaire pour avoir l'**index à gauche** et le **mot à droite**."
      ]
    },
    {
      "cell_type": "code",
      "metadata": {
        "id": "UwfQo282f1VT"
      },
      "source": [
        "reverse_word_index = dict([(value, key) for (key, value) in word_index.items()])"
      ],
      "execution_count": null,
      "outputs": []
    },
    {
      "cell_type": "markdown",
      "metadata": {
        "id": "DlS18Cgqjd7U"
      },
      "source": [
        "On **ré-affiche** les **5 premiers mots** pour voir le changement :"
      ]
    },
    {
      "cell_type": "code",
      "metadata": {
        "colab": {
          "base_uri": "https://localhost:8080/"
        },
        "id": "fZXfM2LAhT7f",
        "outputId": "eed51ca2-66c8-4227-c7ac-b1238fc9d084"
      },
      "source": [
        "list(reverse_word_index.items())[:5]"
      ],
      "execution_count": null,
      "outputs": [
        {
          "output_type": "execute_result",
          "data": {
            "text/plain": [
              "[(34701, 'fawn'),\n",
              " (52006, 'tsukino'),\n",
              " (52007, 'nunnery'),\n",
              " (16816, 'sonja'),\n",
              " (63951, 'vani')]"
            ]
          },
          "metadata": {
            "tags": []
          },
          "execution_count": 6
        }
      ]
    },
    {
      "cell_type": "markdown",
      "metadata": {
        "id": "QoNd23Kjjlc-"
      },
      "source": [
        "On peut ensuite **décoder** les critiques.\n",
        "\n",
        "Ici, pour **chaque chiffre** dans une critique on regarde **son index** dans le dictionnaire.\n",
        "\n",
        "On récupère les **mot associés** aux **index**.\n",
        "\n",
        "Puis on **joint** chacun de ces mots pour faire **une phrase**."
      ]
    },
    {
      "cell_type": "code",
      "metadata": {
        "colab": {
          "base_uri": "https://localhost:8080/"
        },
        "id": "LsYW-SSNZUgy",
        "outputId": "bc9cc472-5fb7-4771-9650-b012c7bd3d67"
      },
      "source": [
        "decoded_review = ' '.join([reverse_word_index.get(i - 3, '?') for i in train_data[0]])\n",
        "\n",
        "print(decoded_review)"
      ],
      "execution_count": null,
      "outputs": [
        {
          "output_type": "stream",
          "text": [
            "? this film was just brilliant casting location scenery story direction everyone's really suited the part they played and you could just imagine being there robert ? is an amazing actor and now the same being director ? father came from the same scottish island as myself so i loved the fact there was a real connection with this film the witty remarks throughout the film were great it was just brilliant so much that i bought the film as soon as it was released for ? and would recommend it to everyone to watch and the fly fishing was amazing really cried at the end it was so sad and you know what they say if you cry at a film it must have been good and this definitely was also ? to the two little boy's that played the ? of norman and paul they were just brilliant children are often left out of the ? list i think because the stars that play them all grown up are such a big profile for the whole film but these children are amazing and should be praised for what they have done don't you think the whole story was so lovely because it was true and was someone's life after all that was shared with us all\n"
          ],
          "name": "stdout"
        }
      ]
    },
    {
      "cell_type": "markdown",
      "metadata": {
        "id": "oj9hw9IobpwT"
      },
      "source": [
        "On peut aussi **voir** le label associé. La critique est :\n",
        "- **positive** si le label vaut **1**\n",
        "- **négative** si le label vaut **0**"
      ]
    },
    {
      "cell_type": "code",
      "metadata": {
        "colab": {
          "base_uri": "https://localhost:8080/"
        },
        "id": "YMk1nvXXZM8h",
        "outputId": "102f2e9d-95d8-4330-c878-de255e0e29ca"
      },
      "source": [
        "print(train_labels[0])"
      ],
      "execution_count": null,
      "outputs": [
        {
          "output_type": "stream",
          "text": [
            "1\n"
          ],
          "name": "stdout"
        }
      ]
    },
    {
      "cell_type": "markdown",
      "metadata": {
        "id": "subvuqpJYHhL"
      },
      "source": [
        "### **Preprocessing - One-hot encoding**"
      ]
    },
    {
      "cell_type": "markdown",
      "metadata": {
        "id": "ucCS1YCYmXWH"
      },
      "source": [
        "Malgré que les critiques soient **déjà encodés** numériquement il nous faut faire un **deuxième traitement**, un deuxième encodage.\n",
        "\n",
        "Nous allons faire ce qu'on appelle un **hot-one encoding**.\n",
        "C'est un encodage **très utilisé** en **NLP**, dans le traitement de texte.\n",
        "\n",
        "Le **hot-one encoding** consiste à **prendre en compte tous les mots** qui nous intéressent (les **10 000 mots** les plus fréquents). Chaque critique sera donc une **liste de longueur 10 000** et si un mot apparaît dans la critique on l'**encode en 1 sinon en 0**.\n",
        "\n",
        "Par **exemple**, encoder la séquence [3, 5] nous donnerai **un vecteur** de longueur 10 000 qui sera constitué de 0 **à l'exception** des indices **3 et 5**, qui seront des **1**.\n",
        "\n",
        "\n",
        "Cela permettra au modèle d'**apprendre plus rapidement** et plus facilement."
      ]
    },
    {
      "cell_type": "markdown",
      "metadata": {
        "id": "w226M8HektLX"
      },
      "source": [
        "On va donc coder la fonction *vectorize_sequences* pour **encoder en one-hot :**"
      ]
    },
    {
      "cell_type": "code",
      "metadata": {
        "id": "BhJCUmiWZfTL"
      },
      "source": [
        "import numpy as np\n",
        "\n",
        "def vectorize_sequences(sequences, dimension=10000):\n",
        "    results = np.zeros((len(sequences), dimension))\n",
        "    for i, sequence in enumerate(sequences):\n",
        "      results[i, sequence] = 1.\n",
        "    return results"
      ],
      "execution_count": null,
      "outputs": []
    },
    {
      "cell_type": "code",
      "metadata": {
        "id": "5CJL1K18TVhj"
      },
      "source": [
        "x_train = vectorize_sequences(train_data)\n",
        "x_test = vectorize_sequences(test_data)"
      ],
      "execution_count": null,
      "outputs": []
    },
    {
      "cell_type": "markdown",
      "metadata": {
        "id": "HbtLw-VEaG1P"
      },
      "source": [
        "On peut ensuite **afficher** le premier élément du *x_train* pour voir **concrètement** le one-hot encoding."
      ]
    },
    {
      "cell_type": "code",
      "metadata": {
        "colab": {
          "base_uri": "https://localhost:8080/"
        },
        "id": "Ri8QD7yYTj5C",
        "outputId": "a064aa72-d6a8-49a2-f382-3da81a10db47"
      },
      "source": [
        "print(x_train[0])"
      ],
      "execution_count": null,
      "outputs": [
        {
          "output_type": "stream",
          "text": [
            "[0. 1. 1. ... 0. 0. 0.]\n"
          ],
          "name": "stdout"
        }
      ]
    },
    {
      "cell_type": "markdown",
      "metadata": {
        "id": "0mCRlkupale2"
      },
      "source": [
        "Ici on modifie le **type des labels** en **float32** à la place de int64 (notre *x_train* et *x_test* étant eux aussi en format float), pour plus de détails sur les types dans [cet article](https://inside-machinelearning.com/tenseur-et-dtype-uint8-float32-cest-quoi/)."
      ]
    },
    {
      "cell_type": "code",
      "metadata": {
        "id": "WfS617pqTlBp"
      },
      "source": [
        "y_train = np.asarray(train_labels).astype('float32')\n",
        "y_test = np.asarray(test_labels).astype('float32')"
      ],
      "execution_count": null,
      "outputs": []
    },
    {
      "cell_type": "markdown",
      "metadata": {
        "id": "lEwLYi5Gb0gb"
      },
      "source": [
        "## **Créer notre modèle de Deep Learning**"
      ]
    },
    {
      "cell_type": "markdown",
      "metadata": {
        "id": "3TXi3f5IdYos"
      },
      "source": [
        "### **Structurer**"
      ]
    },
    {
      "cell_type": "markdown",
      "metadata": {
        "id": "7lscA83bbjtN"
      },
      "source": [
        "Pour cette classfication nous avons une configuration très simple des données:\n",
        "- Les **données d'entrées** en liste de 1 et de 0\n",
        "- Les **données à prédire** 1 ou 0\n",
        "\n",
        "Le type de réseau utile dans ce cas est un **empilement de couches Dense**, qu'on appelle encore **couches fully-connected**, car tous les neurones sont reliés à tous les précédent. Ils sont **totalement connectés** (voir [cet article](https://inside-machinelearning.com/le-deep-learning-cest-quoi/) pour plus d'informations sur les neurones).\n",
        "\n",
        "On utilise par contre des **fonctions d'activation** différentes.\n",
        "\n",
        "- **relu** pour les deux premières\n",
        "- **sigmoïd** pour la dernière\n",
        "\n",
        "Un **article entier** sera redigé sur ces **fonctions d'activation**. **Pour le moment** il suffit juste de savoir que la **fonction sigmoïd** permet d'avoir **une probabilité entre 0 et 1**.\n",
        "\n",
        "Ainsi plus le résultat sera **proche de 1** plus la **critique sera positive** et inversement."
      ]
    },
    {
      "cell_type": "code",
      "metadata": {
        "id": "qA7CtU87X-th"
      },
      "source": [
        "from keras import models\n",
        "from keras import layers\n",
        "\n",
        "model = models.Sequential()\n",
        "model.add(layers.Dense(16, activation='relu', input_shape=(10000,)))\n",
        "model.add(layers.Dense(16, activation='relu'))\n",
        "model.add(layers.Dense(1, activation='sigmoid'))"
      ],
      "execution_count": null,
      "outputs": []
    },
    {
      "cell_type": "markdown",
      "metadata": {
        "id": "bJT_7-4sf6YQ"
      },
      "source": [
        "Pour bien **comprendre** ce qu'il se passe **dans ce modèle** on peut regarder le **schèma associé** grâce à la fonction *plot_model()*.\n",
        "\n",
        "On peut notamment voir le **changement de dimension** qui s'opère sur **nos données** en regardant sur la **partie droite** de chaque couche."
      ]
    },
    {
      "cell_type": "markdown",
      "metadata": {
        "id": "InpsKB9cjO4f"
      },
      "source": [
        "Ainsi, on commence avec une **liste de 10 000 mots** (one-hot encoded) donc une liste de longueur 10 000.\n",
        "\n",
        "Puis la première couche Dense **applique une transformation** et produit une **liste de longueur 16**.\n",
        "\n",
        "La **deuxième couche** applique aussi une transformation pour produire une liste de **longueur 16**.\n",
        "\n",
        "Et enfin, la dernière couche applique une transformation qui produit **une probabilité entre 0 et 1**, donc un seul chiffre, **une seule dimension**."
      ]
    },
    {
      "cell_type": "code",
      "metadata": {
        "colab": {
          "base_uri": "https://localhost:8080/",
          "height": 422
        },
        "id": "1xx6uKjEOLsM",
        "outputId": "b5f84438-67ec-41b3-c7e3-25f9a5dbb390"
      },
      "source": [
        "from keras.utils.vis_utils import plot_model\n",
        "\n",
        "plot_model(model, to_file='model_plot.png', show_shapes=True, show_layer_names=True)"
      ],
      "execution_count": null,
      "outputs": [
        {
          "output_type": "execute_result",
          "data": {
            "image/png": "[encoded data removed]",
            "text/plain": [
              "<IPython.core.display.Image object>"
            ]
          },
          "metadata": {
            "tags": []
          },
          "execution_count": 14
        }
      ]
    },
    {
      "cell_type": "markdown",
      "metadata": {
        "id": "viqUiegCjXac"
      },
      "source": [
        "### **Entraîner**"
      ]
    },
    {
      "cell_type": "markdown",
      "metadata": {
        "id": "-wur6VnPjhKP"
      },
      "source": [
        "**Dernière préparation** avant d'utiliser le modèle.\n",
        "\n",
        "Il faut **séparer** ces données en deux types :\n",
        "- les **données d'entraînement** vont servir à entraîner le modèle\n",
        "- les **données de validation** vont valider son apprentissage"
      ]
    },
    {
      "cell_type": "markdown",
      "metadata": {
        "id": "ABIymk_cl9HU"
      },
      "source": [
        "En fait, cela permet d'éviter un **problème fréquent** en Machine Learning: l'**overfitting**.\n",
        "\n",
        "L'**overfitting**, c'est le fait qu'un modèle se **spécialise tellement** sur ses données d'apprentissage qu'il devient **inefficace** sur d'autres données, **des données réelles**. On appelle aussi ce phénomène le **surapprentissage**.\n",
        "\n",
        "C'est comme si vous vous entrainiez **tous les jours** au tennis mais **seulement de votre revers**. Dans un match réel vous serez très **performant** sur **vos revers** mais vos **coups droits** ne seront pas **si bon**..\n",
        "\n",
        "L'**idée** c'est de bien entraîner notre modèle sur des **données générales** et de **ne pas le surentraîner**."
      ]
    },
    {
      "cell_type": "markdown",
      "metadata": {
        "id": "ozAJbUGhmbBF"
      },
      "source": [
        "Le *x_train* de base est composés de **25 000 listes**, chacune de **longueur 10 000**. \n",
        "\n",
        "On **sépare ces données** ainsi:\n",
        "- **15 000 listes** pour les données d'entraînements\n",
        "- **10 000 listes** pour les données de validation"
      ]
    },
    {
      "cell_type": "code",
      "metadata": {
        "id": "yb4rm2G5RQ7b"
      },
      "source": [
        " x_val = x_train[:10000]\n",
        "partial_x_train = x_train[10000:]\n",
        "\n",
        "y_val = y_train[:10000]\n",
        "partial_y_train = y_train[10000:]"
      ],
      "execution_count": null,
      "outputs": []
    },
    {
      "cell_type": "markdown",
      "metadata": {
        "id": "ZWxoP-QSm9ez"
      },
      "source": [
        "On peut ensuite **compiler le modèle** en choisissant l'**optimizer**, la **loss function** et la **métrique**.\n",
        "\n",
        "Puis **entraîner le modèle** avec la fonction *fit()*.\n",
        "\n",
        "La variable *history* nous permet de garder l'**historique de l'apprentissage**."
      ]
    },
    {
      "cell_type": "code",
      "metadata": {
        "colab": {
          "base_uri": "https://localhost:8080/"
        },
        "id": "5jcDZu-ZS971",
        "outputId": "cf3e687d-80cc-4f88-f351-e36571f181e5"
      },
      "source": [
        "model.compile(optimizer='rmsprop',\n",
        "              loss='binary_crossentropy',\n",
        "              metrics=['accuracy'])\n",
        "\n",
        "history = model.fit(partial_x_train,\n",
        "                    partial_y_train,\n",
        "                    epochs=20,\n",
        "                    batch_size=512,\n",
        "                    validation_data=(x_val, y_val))"
      ],
      "execution_count": null,
      "outputs": [
        {
          "output_type": "stream",
          "text": [
            "Epoch 1/20\n",
            "30/30 [==============================] - 2s 48ms/step - loss: 0.6044 - accuracy: 0.7090 - val_loss: 0.4129 - val_accuracy: 0.8692\n",
            "Epoch 2/20\n",
            "30/30 [==============================] - 1s 39ms/step - loss: 0.3525 - accuracy: 0.8934 - val_loss: 0.3283 - val_accuracy: 0.8761\n",
            "Epoch 3/20\n",
            "30/30 [==============================] - 1s 31ms/step - loss: 0.2530 - accuracy: 0.9215 - val_loss: 0.2859 - val_accuracy: 0.8926\n",
            "Epoch 4/20\n",
            "30/30 [==============================] - 1s 31ms/step - loss: 0.1934 - accuracy: 0.9392 - val_loss: 0.2743 - val_accuracy: 0.8894\n",
            "Epoch 5/20\n",
            "30/30 [==============================] - 1s 31ms/step - loss: 0.1599 - accuracy: 0.9512 - val_loss: 0.2764 - val_accuracy: 0.8891\n",
            "Epoch 6/20\n",
            "30/30 [==============================] - 1s 31ms/step - loss: 0.1343 - accuracy: 0.9597 - val_loss: 0.2858 - val_accuracy: 0.8852\n",
            "Epoch 7/20\n",
            "30/30 [==============================] - 1s 31ms/step - loss: 0.1090 - accuracy: 0.9668 - val_loss: 0.3015 - val_accuracy: 0.8851\n",
            "Epoch 8/20\n",
            "30/30 [==============================] - 1s 31ms/step - loss: 0.0893 - accuracy: 0.9759 - val_loss: 0.3137 - val_accuracy: 0.8844\n",
            "Epoch 9/20\n",
            "30/30 [==============================] - 1s 31ms/step - loss: 0.0740 - accuracy: 0.9812 - val_loss: 0.3347 - val_accuracy: 0.8790\n",
            "Epoch 10/20\n",
            "30/30 [==============================] - 1s 31ms/step - loss: 0.0613 - accuracy: 0.9844 - val_loss: 0.3548 - val_accuracy: 0.8782\n",
            "Epoch 11/20\n",
            "30/30 [==============================] - 1s 32ms/step - loss: 0.0510 - accuracy: 0.9893 - val_loss: 0.3770 - val_accuracy: 0.8785\n",
            "Epoch 12/20\n",
            "30/30 [==============================] - 1s 30ms/step - loss: 0.0454 - accuracy: 0.9899 - val_loss: 0.4018 - val_accuracy: 0.8761\n",
            "Epoch 13/20\n",
            "30/30 [==============================] - 1s 31ms/step - loss: 0.0353 - accuracy: 0.9929 - val_loss: 0.4493 - val_accuracy: 0.8742\n",
            "Epoch 14/20\n",
            "30/30 [==============================] - 1s 30ms/step - loss: 0.0285 - accuracy: 0.9938 - val_loss: 0.4716 - val_accuracy: 0.8749\n",
            "Epoch 15/20\n",
            "30/30 [==============================] - 1s 31ms/step - loss: 0.0232 - accuracy: 0.9961 - val_loss: 0.4977 - val_accuracy: 0.8689\n",
            "Epoch 16/20\n",
            "30/30 [==============================] - 1s 30ms/step - loss: 0.0183 - accuracy: 0.9973 - val_loss: 0.5214 - val_accuracy: 0.8704\n",
            "Epoch 17/20\n",
            "30/30 [==============================] - 1s 31ms/step - loss: 0.0139 - accuracy: 0.9990 - val_loss: 0.5515 - val_accuracy: 0.8704\n",
            "Epoch 18/20\n",
            "30/30 [==============================] - 1s 30ms/step - loss: 0.0116 - accuracy: 0.9991 - val_loss: 0.5841 - val_accuracy: 0.8689\n",
            "Epoch 19/20\n",
            "30/30 [==============================] - 1s 30ms/step - loss: 0.0076 - accuracy: 0.9997 - val_loss: 0.6723 - val_accuracy: 0.8572\n",
            "Epoch 20/20\n",
            "30/30 [==============================] - 1s 32ms/step - loss: 0.0087 - accuracy: 0.9990 - val_loss: 0.6618 - val_accuracy: 0.8660\n"
          ],
          "name": "stdout"
        }
      ]
    },
    {
      "cell_type": "markdown",
      "metadata": {
        "id": "Mt1EoEDRdi9e"
      },
      "source": [
        "**Évaluer**"
      ]
    },
    {
      "cell_type": "markdown",
      "metadata": {
        "id": "EBz2wyPoreMF"
      },
      "source": [
        "Dans la variable *history* on a les valeurs de la loss et de l'accuracy, **la perte** et **la précision**."
      ]
    },
    {
      "cell_type": "code",
      "metadata": {
        "colab": {
          "base_uri": "https://localhost:8080/"
        },
        "id": "yjobvB8bTTWG",
        "outputId": "2fbeacfc-c155-46b9-d6b6-2f203a433b49"
      },
      "source": [
        "history_dict = history.history\n",
        "history_dict.keys()"
      ],
      "execution_count": null,
      "outputs": [
        {
          "output_type": "execute_result",
          "data": {
            "text/plain": [
              "dict_keys(['loss', 'accuracy', 'val_loss', 'val_accuracy'])"
            ]
          },
          "metadata": {
            "tags": []
          },
          "execution_count": 17
        }
      ]
    },
    {
      "cell_type": "markdown",
      "metadata": {
        "id": "NO5p83P5sAwy"
      },
      "source": [
        "Nous allons **tracer un graphe** avec ces valeurs pour **analyser l'apprentissage** de notre modèle."
      ]
    },
    {
      "cell_type": "code",
      "metadata": {
        "colab": {
          "base_uri": "https://localhost:8080/",
          "height": 295
        },
        "id": "Bi5VgY6zTi5u",
        "outputId": "61fe8029-e65c-461a-a3f5-d9a8bdc59070"
      },
      "source": [
        "import matplotlib.pyplot as plt\n",
        "history_dict = history.history\n",
        "loss_values = history_dict['loss']\n",
        "val_loss_values = history_dict['val_loss']\n",
        "epochs = range(1, len(loss_values) + 1)\n",
        "plt.plot(epochs, loss_values, 'bo', label='Training loss')\n",
        "plt.plot(epochs, val_loss_values, 'b', label='Validation loss')\n",
        "plt.title('Training and validation loss')\n",
        "plt.xlabel('Epochs')\n",
        "plt.ylabel('Loss')\n",
        "plt.legend()\n",
        "plt.show()"
      ],
      "execution_count": null,
      "outputs": [
        {
          "output_type": "display_data",
          "data": {
            "image/png": "[encoded data removed]",
            "text/plain": [
              "<Figure size 432x288 with 1 Axes>"
            ]
          },
          "metadata": {
            "tags": [],
            "needs_background": "light"
          }
        }
      ]
    },
    {
      "cell_type": "markdown",
      "metadata": {
        "id": "M7Q0fOgFtQAt"
      },
      "source": [
        "On voit au niveau des **premiers epoch** que la perte sur les données d'**entraînement** et celle sur les données de **validation** **diminue de manière similaire**.\n",
        "\n",
        "Très vite les courbes ne **diminue plus aussi vite** (ce qui est normal) et à un moment, **à l'epoch 4**, la **perte** sur les données de validation **augmente** et ne rebaisse plus.\n",
        "\n",
        "C'est exactement là qu'est l'**overfitting**.\n",
        "\n",
        "Le modèle se **spécialise sur les données d'entraînement** donc la loss ne fait que **diminuer pour ces données** mais en se spécialisant autant il n'est **plus capable d'être performant** sur les données de validation et, du manière générale, sur **les données réelles**."
      ]
    },
    {
      "cell_type": "markdown",
      "metadata": {
        "id": "b9k4X9rBuB83"
      },
      "source": [
        "On peut d'ailleurs **vérifier ce fait** en traçant la courbe de la **précision** du modèle sur les données d'**entraînement** et sur les données de **validation**.\n",
        "\n",
        "Effectivement, la **précision diminue** à partir de l'**epoch 4** pour les **données de validation** alors qu'elle **continue d'augmenter** pour les données d'entraînement."
      ]
    },
    {
      "cell_type": "code",
      "metadata": {
        "colab": {
          "base_uri": "https://localhost:8080/",
          "height": 295
        },
        "id": "RHSqUkAkTt8H",
        "outputId": "6a392c3a-456b-4a9c-c483-9e3ad94bac6e"
      },
      "source": [
        "plt.clf()\n",
        "acc_values = history_dict['accuracy']\n",
        "val_acc_values = history_dict['val_accuracy']\n",
        "plt.plot(epochs, acc_values, 'bo', label='Training accuracy')\n",
        "plt.plot(epochs, val_acc_values, 'b', label='Validation accuracy')\n",
        "plt.title('Training and validation accuracy')\n",
        "plt.xlabel('Epochs')\n",
        "plt.ylabel('Accuracy')\n",
        "plt.legend()\n",
        "plt.show()\n"
      ],
      "execution_count": null,
      "outputs": [
        {
          "output_type": "display_data",
          "data": {
            "image/png": "[encoded data removed]",
            "text/plain": [
              "<Figure size 432x288 with 1 Axes>"
            ]
          },
          "metadata": {
            "tags": [],
            "needs_background": "light"
          }
        }
      ]
    },
    {
      "cell_type": "markdown",
      "metadata": {
        "id": "tBvmEEvSxORL"
      },
      "source": [
        "On peut aussi **evaluer** notre modèle sur les données de test.\n",
        "\n",
        "On a **à gauche la perte** et **à droite la précision**.\n",
        "\n",
        "Ici **attention** à ne pas **confondre** les deux métriques:\n",
        "- la **précision peut etre prise en pourcentage**, si elle est de 0,85 alors 85%\n",
        "- la **perte elle n'est pas un pourcentage**, notre but est seulement de la faire tendre vers 0"
      ]
    },
    {
      "cell_type": "code",
      "metadata": {
        "colab": {
          "base_uri": "https://localhost:8080/"
        },
        "id": "Qo9ha6zQUXjz",
        "outputId": "77834bca-5ece-484a-9604-9387cfe98524"
      },
      "source": [
        "model.evaluate(x_test, y_test)"
      ],
      "execution_count": null,
      "outputs": [
        {
          "output_type": "stream",
          "text": [
            "782/782 [==============================] - 1s 2ms/step - loss: 0.7295 - accuracy: 0.8502\n"
          ],
          "name": "stdout"
        },
        {
          "output_type": "execute_result",
          "data": {
            "text/plain": [
              "[0.7295163869857788, 0.8501999974250793]"
            ]
          },
          "metadata": {
            "tags": []
          },
          "execution_count": 20
        }
      ]
    },
    {
      "cell_type": "markdown",
      "metadata": {
        "id": "mSZdYheodqdV"
      },
      "source": [
        "**Après** cette analyse, on peut **améliorer** notre modèle."
      ]
    },
    {
      "cell_type": "markdown",
      "metadata": {
        "id": "SqJNZ2M3do_V"
      },
      "source": [
        "### **Améliorer**"
      ]
    },
    {
      "cell_type": "markdown",
      "metadata": {
        "id": "dDGeQhNTvR1N"
      },
      "source": [
        "On a vu que le **modèle apprend** très bien sur les données d'entraînement mais moins bien sur les données de validation.\n",
        "\n",
        "Notre modèle **atteind son pic** de performance à l'**epoch 4**.\n",
        "\n",
        "**Qu'à cela ne tienne !** On va **réduire le nombre d'epoch** pour **améliorer la performance** de notre modèle !"
      ]
    },
    {
      "cell_type": "code",
      "metadata": {
        "colab": {
          "base_uri": "https://localhost:8080/"
        },
        "id": "3k2nj3D0W61y",
        "outputId": "88c3c711-d502-44b4-90f2-c01847764c0e"
      },
      "source": [
        "model = models.Sequential()\n",
        "model.add(layers.Dense(16, activation='relu', input_shape=(10000,)))\n",
        "model.add(layers.Dense(16, activation='relu'))\n",
        "model.add(layers.Dense(1, activation='sigmoid'))\n",
        "model.compile(optimizer='rmsprop',\n",
        "              loss='binary_crossentropy',\n",
        "              metrics=['accuracy'])\n",
        "model.fit(x_train, y_train, epochs=4, batch_size=512)\n",
        "results = model.evaluate(x_test, y_test)"
      ],
      "execution_count": null,
      "outputs": [
        {
          "output_type": "stream",
          "text": [
            "Epoch 1/4\n",
            "49/49 [==============================] - 2s 25ms/step - loss: 0.5508 - accuracy: 0.7375\n",
            "Epoch 2/4\n",
            "49/49 [==============================] - 1s 24ms/step - loss: 0.2714 - accuracy: 0.9096\n",
            "Epoch 3/4\n",
            "49/49 [==============================] - 1s 23ms/step - loss: 0.2026 - accuracy: 0.9294\n",
            "Epoch 4/4\n",
            "49/49 [==============================] - 1s 24ms/step - loss: 0.1713 - accuracy: 0.9405\n",
            "782/782 [==============================] - 1s 2ms/step - loss: 0.2914 - accuracy: 0.8845\n"
          ],
          "name": "stdout"
        }
      ]
    },
    {
      "cell_type": "markdown",
      "metadata": {
        "id": "Zr7ZdGBkyHNz"
      },
      "source": [
        "Et voilà ! On peut **évaluer à nouveau notre modèle** sur les données de test pour **voir l'amélioration** qui a eu lieu sur la **perte** (plus basse) et sur la **précision** (plus haute)."
      ]
    },
    {
      "cell_type": "code",
      "metadata": {
        "colab": {
          "base_uri": "https://localhost:8080/"
        },
        "id": "buRSMamTW_rb",
        "outputId": "740650dc-129b-4f50-9004-362caea5e55d"
      },
      "source": [
        "print(results)"
      ],
      "execution_count": null,
      "outputs": [
        {
          "output_type": "execute_result",
          "data": {
            "text/plain": [
              "[0.2913535237312317, 0.8844799995422363]"
            ]
          },
          "metadata": {
            "tags": []
          },
          "execution_count": 22
        }
      ]
    },
    {
      "cell_type": "markdown",
      "metadata": {
        "id": "v3hqraL4Xdh_"
      },
      "source": [
        "Pour **utiliser le modèle** sur de **nouvelles données**, rien de plus simple, il faut utiliser la fonction *predict()*.\n",
        "\n",
        "Cela va **générer la probabilité** que les critiques soient **positives**."
      ]
    },
    {
      "cell_type": "code",
      "metadata": {
        "colab": {
          "base_uri": "https://localhost:8080/"
        },
        "id": "qB4oyZugXQnj",
        "outputId": "10028f34-a8a0-4a42-910e-ea99c3dcd8e5"
      },
      "source": [
        "model.predict(x_test[0:2])"
      ],
      "execution_count": null,
      "outputs": [
        {
          "output_type": "execute_result",
          "data": {
            "text/plain": [
              "array([[0.20192459],\n",
              "       [0.99917173]], dtype=float32)"
            ]
          },
          "metadata": {
            "tags": []
          },
          "execution_count": 23
        }
      ]
    },
    {
      "cell_type": "code",
      "metadata": {
        "id": "iTIRLUzPlDEc",
        "colab": {
          "base_uri": "https://localhost:8080/"
        },
        "outputId": "319092c7-5f4f-4a45-d467-78b383f1ce10"
      },
      "source": [
        "decoded_review = ' '.join([reverse_word_index.get(i - 3, '?') for i in test_data[0]])\n",
        "\n",
        "print('Probabilité que la critique soit positive : '+str(model.predict(x_test[0:1])))\n",
        "print('Critique : '+decoded_review)"
      ],
      "execution_count": null,
      "outputs": [
        {
          "output_type": "stream",
          "text": [
            "Probabilité que la critique soit positive : [[0.13045216]]\n",
            "Critique : ? please give this one a miss br br ? ? and the rest of the cast rendered terrible performances the show is flat flat flat br br i don't know how michael madison could have allowed this one on his plate he almost seemed to know this wasn't going to work out and his performance was quite ? so all you madison fans give this a miss\n"
          ],
          "name": "stdout"
        }
      ]
    },
    {
      "cell_type": "code",
      "metadata": {
        "id": "REOeEuB3l38v",
        "colab": {
          "base_uri": "https://localhost:8080/"
        },
        "outputId": "b1c617ca-f90b-43d3-a3b0-d8e84353e3a1"
      },
      "source": [
        "decoded_review = ' '.join([reverse_word_index.get(i - 3, '?') for i in test_data[1]])\n",
        "\n",
        "print('Probabilité que la critique soit positive : '+str(model.predict(x_test[1:2])))\n",
        "print('Critique : '+decoded_review)"
      ],
      "execution_count": null,
      "outputs": [
        {
          "output_type": "stream",
          "text": [
            "Probabilité que la critique soit positive : [[0.99968565]]\n",
            "Critique : ? this film requires a lot of patience because it focuses on mood and character development the plot is very simple and many of the scenes take place on the same set in frances ? the sandy dennis character apartment but the film builds to a disturbing climax br br the characters create an atmosphere ? with sexual tension and psychological ? it's very interesting that robert altman directed this considering the style and structure of his other films still the trademark altman audio style is evident here and there i think what really makes this film work is the brilliant performance by sandy dennis it's definitely one of her darker characters but she plays it so perfectly and convincingly that it's scary michael burns does a good job as the mute young man regular altman player michael murphy has a small part the ? moody set fits the content of the story very well in short this movie is a powerful study of loneliness sexual ? and desperation be patient ? up the atmosphere and pay attention to the wonderfully written script br br i praise robert altman this is one of his many films that deals with unconventional fascinating subject matter this film is disturbing but it's sincere and it's sure to ? a strong emotional response from the viewer if you want to see an unusual film some might even say bizarre this is worth the time br br unfortunately it's very difficult to find in video stores you may have to buy it off the internet\n"
          ],
          "name": "stdout"
        }
      ]
    },
    {
      "cell_type": "markdown",
      "metadata": {
        "id": "7QId4_ORZTL7"
      },
      "source": [
        "## **Pour aller plus loin...**"
      ]
    },
    {
      "cell_type": "markdown",
      "metadata": {
        "id": "1PgdGU_i1XsP"
      },
      "source": [
        "**Le Deep Learning c'est avant tout de la pratique !** Il n'y a **pas de secret théorique** qui vous permettra d'améliorer la précision d'un modèle.\n",
        "\n",
        "**Augmenter la performance** de son modèle c'est des **tests**, des **expérimentations** et du **bidouillage**.\n",
        "\n",
        "N'hésitez pas à **ajouter des couches de neurones**, changer **les différents hyperparamètres** pour voir les changements que cela opére sur les résultats du modèle.\n",
        "\n",
        "Ici en **modifiant** la dimension de la *premiere couche Dense*, la *loss function*, le *batch_size* et les *epochs* on obtient un **modèle plus performant !**"
      ]
    },
    {
      "cell_type": "code",
      "metadata": {
        "colab": {
          "base_uri": "https://localhost:8080/"
        },
        "id": "qLiJR3FLYXlb",
        "outputId": "90e0e727-9722-4359-f0e7-3e77cb71124e"
      },
      "source": [
        "model = models.Sequential()\n",
        "model.add(layers.Dense(64, activation='relu', input_shape=(10000,)))\n",
        "model.add(layers.Dense(16, activation='relu'))\n",
        "model.add(layers.Dense(1, activation='sigmoid'))\n",
        "model.compile(optimizer='rmsprop',\n",
        "              loss='mse',\n",
        "              metrics=['accuracy'])\n",
        "model.fit(x_train, y_train, epochs=3, batch_size=256)\n",
        "results = model.evaluate(x_test, y_test)"
      ],
      "execution_count": null,
      "outputs": [
        {
          "output_type": "stream",
          "text": [
            "Epoch 1/3\n",
            "98/98 [==============================] - 2s 20ms/step - loss: 0.1557 - accuracy: 0.7831\n",
            "Epoch 2/3\n",
            "98/98 [==============================] - 2s 20ms/step - loss: 0.0594 - accuracy: 0.9248\n",
            "Epoch 3/3\n",
            "98/98 [==============================] - 2s 20ms/step - loss: 0.0456 - accuracy: 0.9440\n",
            "782/782 [==============================] - 2s 2ms/step - loss: 0.0912 - accuracy: 0.8789\n"
          ],
          "name": "stdout"
        }
      ]
    }
  ]
}